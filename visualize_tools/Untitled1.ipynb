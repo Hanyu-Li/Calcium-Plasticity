{
 "cells": [
  {
   "cell_type": "code",
   "execution_count": 2,
   "metadata": {
    "collapsed": false
   },
   "outputs": [
    {
     "name": "stdout",
     "output_type": "stream",
     "text": [
      "vertex: 36063 in-degree: 0 out-degree: 1 age: 36063\n",
      "vertex: 9075 in-degree: 4 out-degree: 1 age: 9075\n",
      "vertex: 5967 in-degree: 3 out-degree: 1 age: 5967\n",
      "vertex: 1113 in-degree: 7 out-degree: 1 age: 1113\n",
      "vertex: 25 in-degree: 84 out-degree: 1 age: 25\n",
      "vertex: 10 in-degree: 541 out-degree: 1 age: 10\n",
      "vertex: 5 in-degree: 140 out-degree: 1 age: 5\n",
      "vertex: 2 in-degree: 459 out-degree: 1 age: 2\n",
      "vertex: 1 in-degree: 520 out-degree: 1 age: 1\n",
      "vertex: 0 in-degree: 210 out-degree: 0 age: 0\n",
      "Nowhere else to go... We found the main hub!\n"
     ]
    },
    {
     "data": {
      "image/png": "[encoded data removed]",
      "text/plain": [
       "<matplotlib.figure.Figure at 0x7f21d2d66e50>"
      ]
     },
     "metadata": {},
     "output_type": "display_data"
    }
   ],
   "source": [
    "#! /usr/bin/env python\n",
    "\n",
    "# We will need some things from several places\n",
    "from __future__ import division, absolute_import, print_function\n",
    "import sys\n",
    "if sys.version_info < (3,):\n",
    "    range = xrange\n",
    "import os\n",
    "from pylab import *  # for plotting\n",
    "from numpy.random import *  # for random sampling\n",
    "%matplotlib inline\n",
    "seed(42)\n",
    "\n",
    "# We need to import the graph_tool module itself\n",
    "from graph_tool.all import *\n",
    "\n",
    "# let's construct a Price network (the one that existed before Barabasi). It is\n",
    "# a directed network, with preferential attachment. The algorithm below is\n",
    "# very naive, and a bit slow, but quite simple.\n",
    "\n",
    "# We start with an empty, directed graph\n",
    "g = Graph()\n",
    "\n",
    "# We want also to keep the age information for each vertex and edge. For that\n",
    "# let's create some property maps\n",
    "v_age = g.new_vertex_property(\"int\")\n",
    "e_age = g.new_edge_property(\"int\")\n",
    "\n",
    "# The final size of the network\n",
    "N = 100000\n",
    "\n",
    "# We have to start with one vertex\n",
    "v = g.add_vertex()\n",
    "v_age[v] = 0\n",
    "\n",
    "# we will keep a list of the vertices. The number of times a vertex is in this\n",
    "# list will give the probability of it being selected.\n",
    "vlist = [v]\n",
    "\n",
    "# let's now add the new edges and vertices\n",
    "for i in range(1, N):\n",
    "    # create our new vertex\n",
    "    v = g.add_vertex()\n",
    "    v_age[v] = i\n",
    "\n",
    "    # we need to sample a new vertex to be the target, based on its in-degree +\n",
    "    # 1. For that, we simply randomly sample it from vlist.\n",
    "    i = randint(0, len(vlist))\n",
    "    target = vlist[i]\n",
    "\n",
    "    # add edge\n",
    "    e = g.add_edge(v, target)\n",
    "    e_age[e] = i\n",
    "\n",
    "    # put v and target in the list\n",
    "    vlist.append(target)\n",
    "    vlist.append(v)\n",
    "\n",
    "# now we have a graph!\n",
    "\n",
    "# let's do a random walk on the graph and print the age of the vertices we find,\n",
    "# just for fun.\n",
    "\n",
    "v = g.vertex(randint(0, g.num_vertices()))\n",
    "while True:\n",
    "    print(\"vertex:\", int(v), \"in-degree:\", v.in_degree(), \"out-degree:\",\n",
    "          v.out_degree(), \"age:\", v_age[v])\n",
    "\n",
    "    if v.out_degree() == 0:\n",
    "        print(\"Nowhere else to go... We found the main hub!\")\n",
    "        break\n",
    "\n",
    "    n_list = []\n",
    "    for w in v.out_neighbours():\n",
    "        n_list.append(w)\n",
    "    v = n_list[randint(0, len(n_list))]\n",
    "\n",
    "# let's save our graph for posterity. We want to save the age properties as\n",
    "# well... To do this, they must become \"internal\" properties:\n",
    "\n",
    "g.vertex_properties[\"age\"] = v_age\n",
    "g.edge_properties[\"age\"] = e_age\n",
    "\n",
    "# now we can save it\n",
    "g.save(\"price.xml.gz\")\n",
    "\n",
    "\n",
    "# Let's plot its in-degree distribution\n",
    "in_hist = vertex_hist(g, \"in\")\n",
    "\n",
    "y = in_hist[0]\n",
    "err = sqrt(in_hist[0])\n",
    "err[err >= y] = y[err >= y] - 1e-2\n",
    "\n",
    "figure(figsize=(6,4))\n",
    "errorbar(in_hist[1][:-1], in_hist[0], fmt=\"o\", yerr=err,\n",
    "        label=\"in\")\n",
    "gca().set_yscale(\"log\")\n",
    "gca().set_xscale(\"log\")\n",
    "gca().set_ylim(1e-1, 1e5)\n",
    "gca().set_xlim(0.8, 1e3)\n",
    "subplots_adjust(left=0.2, bottom=0.2)\n",
    "xlabel(\"$k_{in}$\")\n",
    "ylabel(\"$NP(k_{in})$\")\n",
    "tight_layout()\n",
    "savefig(\"price-deg-dist.pdf\")\n",
    "savefig(\"price-deg-dist.png\")\n"
   ]
  },
  {
   "cell_type": "code",
   "execution_count": 3,
   "metadata": {
    "collapsed": false
   },
   "outputs": [
    {
     "ename": "KeyboardInterrupt",
     "evalue": "",
     "output_type": "error",
     "traceback": [
      "\u001b[1;31m---------------------------------------------------------------------------\u001b[0m",
      "\u001b[1;31mKeyboardInterrupt\u001b[0m                         Traceback (most recent call last)",
      "\u001b[1;32m<ipython-input-3-91e786120cc5>\u001b[0m in \u001b[0;36m<module>\u001b[1;34m()\u001b[0m\n\u001b[0;32m      2\u001b[0m \u001b[0mage\u001b[0m \u001b[1;33m=\u001b[0m \u001b[0mg\u001b[0m\u001b[1;33m.\u001b[0m\u001b[0mvertex_properties\u001b[0m\u001b[1;33m[\u001b[0m\u001b[1;34m\"age\"\u001b[0m\u001b[1;33m]\u001b[0m\u001b[1;33m\u001b[0m\u001b[0m\n\u001b[0;32m      3\u001b[0m \u001b[1;33m\u001b[0m\u001b[0m\n\u001b[1;32m----> 4\u001b[1;33m \u001b[0mpos\u001b[0m \u001b[1;33m=\u001b[0m \u001b[0msfdp_layout\u001b[0m\u001b[1;33m(\u001b[0m\u001b[0mg\u001b[0m\u001b[1;33m)\u001b[0m\u001b[1;33m\u001b[0m\u001b[0m\n\u001b[0m\u001b[0;32m      5\u001b[0m graph_draw(g, pos, output_size=(1000, 1000), vertex_color=[1,1,1,0],\n\u001b[0;32m      6\u001b[0m            \u001b[0mvertex_fill_color\u001b[0m\u001b[1;33m=\u001b[0m\u001b[0mage\u001b[0m\u001b[1;33m,\u001b[0m \u001b[0mvertex_size\u001b[0m\u001b[1;33m=\u001b[0m\u001b[1;36m1\u001b[0m\u001b[1;33m,\u001b[0m \u001b[0medge_pen_width\u001b[0m\u001b[1;33m=\u001b[0m\u001b[1;36m1.2\u001b[0m\u001b[1;33m,\u001b[0m\u001b[1;33m\u001b[0m\u001b[0m\n",
      "\u001b[1;32m/home/hanyu/anaconda2/lib/python2.7/site-packages/graph_tool/draw/__init__.pyc\u001b[0m in \u001b[0;36msfdp_layout\u001b[1;34m(g, vweight, eweight, pin, groups, C, K, p, theta, max_level, gamma, mu, mu_p, init_step, cooling_step, adaptive_cooling, epsilon, max_iter, pos, multilevel, coarse_method, mivs_thres, ec_thres, coarse_stack, weighted_coarse, verbose)\u001b[0m\n\u001b[0;32m    675\u001b[0m                               \u001b[1;31m#               _avg_edge_distance(u, pos)),\u001b[0m\u001b[1;33m\u001b[0m\u001b[1;33m\u001b[0m\u001b[0m\n\u001b[0;32m    676\u001b[0m                               \u001b[0mmultilevel\u001b[0m\u001b[1;33m=\u001b[0m\u001b[0mFalse\u001b[0m\u001b[1;33m,\u001b[0m\u001b[1;33m\u001b[0m\u001b[0m\n\u001b[1;32m--> 677\u001b[1;33m                               verbose=False)\n\u001b[0m\u001b[0;32m    678\u001b[0m             \u001b[1;31m#graph_draw(u, pos)\u001b[0m\u001b[1;33m\u001b[0m\u001b[1;33m\u001b[0m\u001b[0m\n\u001b[0;32m    679\u001b[0m         \u001b[1;32mreturn\u001b[0m \u001b[0mpos\u001b[0m\u001b[1;33m\u001b[0m\u001b[0m\n",
      "\u001b[1;32m/home/hanyu/anaconda2/lib/python2.7/site-packages/graph_tool/draw/__init__.pyc\u001b[0m in \u001b[0;36msfdp_layout\u001b[1;34m(g, vweight, eweight, pin, groups, C, K, p, theta, max_level, gamma, mu, mu_p, init_step, cooling_step, adaptive_cooling, epsilon, max_iter, pos, multilevel, coarse_method, mivs_thres, ec_thres, coarse_stack, weighted_coarse, verbose)\u001b[0m\n\u001b[0;32m    700\u001b[0m                                      \u001b[0mtheta\u001b[0m\u001b[1;33m,\u001b[0m \u001b[0minit_step\u001b[0m\u001b[1;33m,\u001b[0m \u001b[0mcooling_step\u001b[0m\u001b[1;33m,\u001b[0m \u001b[0mmax_level\u001b[0m\u001b[1;33m,\u001b[0m\u001b[1;33m\u001b[0m\u001b[0m\n\u001b[0;32m    701\u001b[0m                                      \u001b[0mepsilon\u001b[0m\u001b[1;33m,\u001b[0m \u001b[0mmax_iter\u001b[0m\u001b[1;33m,\u001b[0m \u001b[1;32mnot\u001b[0m \u001b[0madaptive_cooling\u001b[0m\u001b[1;33m,\u001b[0m\u001b[1;33m\u001b[0m\u001b[0m\n\u001b[1;32m--> 702\u001b[1;33m                                      verbose, _get_rng())\n\u001b[0m\u001b[0;32m    703\u001b[0m     \u001b[1;32mreturn\u001b[0m \u001b[0mpos\u001b[0m\u001b[1;33m\u001b[0m\u001b[0m\n\u001b[0;32m    704\u001b[0m \u001b[1;33m\u001b[0m\u001b[0m\n",
      "\u001b[1;31mKeyboardInterrupt\u001b[0m: "
     ]
    }
   ],
   "source": [
    "g = load_graph(\"price.xml.gz\")\n",
    "age = g.vertex_properties[\"age\"]\n",
    "\n",
    "pos = sfdp_layout(g)\n",
    "graph_draw(g, pos, output_size=(1000, 1000), vertex_color=[1,1,1,0],\n",
    "           vertex_fill_color=age, vertex_size=1, edge_pen_width=1.2,\n",
    "           vcmap=matplotlib.cm.gist_heat_r, output=\"price.png\")"
   ]
  }
 ],
 "metadata": {
  "kernelspec": {
   "display_name": "Python 2",
   "language": "python",
   "name": "python2"
  },
  "language_info": {
   "codemirror_mode": {
    "name": "ipython",
    "version": 2
   },
   "file_extension": ".py",
   "mimetype": "text/x-python",
   "name": "python",
   "nbconvert_exporter": "python",
   "pygments_lexer": "ipython2",
   "version": "2.7.11"
  }
 },
 "nbformat": 4,
 "nbformat_minor": 0
}
