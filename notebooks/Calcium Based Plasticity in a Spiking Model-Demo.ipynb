{
 "cells": [
  {
   "cell_type": "markdown",
   "metadata": {},
   "source": [
    "<font size=\"6\"><b><i>Brian2</i> Simulation of Calcium Based Plasticity in a Spiking Model</font>\n",
    "\n",
    "                                                                           Hanyu Li\n",
    "                                                                           03/25/2016"
   ]
  },
  {
   "cell_type": "code",
   "execution_count": 1,
   "metadata": {
    "collapsed": false
   },
   "outputs": [
    {
     "data": {
      "application/javascript": [
       "IPython.OutputArea.auto_scroll_threshold = 99999;"
      ],
      "text/plain": [
       "<IPython.core.display.Javascript object>"
      ]
     },
     "metadata": {},
     "output_type": "display_data"
    }
   ],
   "source": [
    "%%javascript\n",
    "IPython.OutputArea.auto_scroll_threshold = 99999;"
   ]
  },
  {
   "cell_type": "markdown",
   "metadata": {},
   "source": [
    "# Simulation"
   ]
  },
  {
   "cell_type": "code",
   "execution_count": 4,
   "metadata": {
    "collapsed": false,
    "scrolled": true
   },
   "outputs": [
    {
     "name": "stdout",
     "output_type": "stream",
     "text": [
      "/home/hanyu/pypath/calcium-spike-model\n"
     ]
    }
   ],
   "source": [
    "from brian_utils import *\n",
    "from brian_simulator import *\n",
    "%matplotlib inline\n",
    "%cd ~/pypath/calcium-spike-model/"
   ]
  },
  {
   "cell_type": "code",
   "execution_count": 5,
   "metadata": {
    "collapsed": true
   },
   "outputs": [],
   "source": [
    "params = {\n",
    "    'cpre_0':0.1,\n",
    "    'cpost_0':0.1,\n",
    "    'rho_0':0.5,\n",
    "    'c':0.2,\n",
    "    'dummy':0.2,\n",
    "    'Ipre':0,\n",
    "    'Ipost':0,\n",
    "    'w0':0.5,\n",
    "    'w_EE':0.2,\n",
    "    'w_IE':0.1,\n",
    "    'w_II':-0.4,\n",
    "    'w_EI':-0.4,\n",
    "    #LIF specific constants,\n",
    "    'tau_lif':26, #*ms\n",
    "    'V_init':-60,\n",
    "    'V_rest':-70,\n",
    "    'V_reset':-70,\n",
    "    'V_threshold':-50,\n",
    "    'CM':0.001,\n",
    "    'RM':20.0,\n",
    "    'refrac':0,\n",
    "    #Synapse model specific constants,\n",
    "    'rho_init':0.019,\n",
    "    'ca_initial':0,\n",
    "    'ca_delay':4.61, #ms\n",
    "    'Cpre':0.56175,\n",
    "    'Cpost':1.23964,\n",
    "    'eta':0,\n",
    "    'tau_ca':22.6936,\n",
    "    'theta_D':1,\n",
    "    'theta_P':1.3,\n",
    "    'gamma_D':331.909,\n",
    "    'gamma_P':725.085,\n",
    "    'taurho':346361, #*ms\n",
    "    'taurho_fast':10, #*ms # dummy,\n",
    "    'taupre':22,\n",
    "    'taupost':22,\n",
    "    'tau_ca':22, #*ms\n",
    "    'rho_star':0.5,\n",
    "    'D':4.6098,\n",
    "    'baseline_I_ext_E':25,\n",
    "    'baseline_I_ext_I':35,\n",
    "    'mean_I_ext_E':40,\n",
    "    'mean_I_ext_I':50,\n",
    "    'sigma':20,\n",
    "    'familiar_individual_sigma':9}"
   ]
  },
  {
   "cell_type": "markdown",
   "metadata": {},
   "source": [
    "### Setup simulator"
   ]
  },
  {
   "cell_type": "code",
   "execution_count": null,
   "metadata": {
    "collapsed": true
   },
   "outputs": [],
   "source": [
    "# additively applied to params\n",
    "param_diffs = {\n",
    "    'cpre_0':0,\n",
    "    'cpost_0':0,\n",
    "    'rho_0':0,\n",
    "    'c':0,\n",
    "    'dummy':0,\n",
    "    'Ipre':0,\n",
    "    'Ipost':0,\n",
    "    'w0':0,\n",
    "    'w_EE':0,\n",
    "    'w_IE':0,\n",
    "    'w_II':0,\n",
    "    'w_EI':0,\n",
    "    #LIF specific constants,\n",
    "    'tau_lif':0, #*ms\n",
    "    'V_init':0,\n",
    "    'V_rest':0,\n",
    "    'V_reset':0,\n",
    "    'V_threshold':0,\n",
    "    'CM':0,\n",
    "    'RM':0,\n",
    "    'refrac':0,\n",
    "    #Synapse model specific constants,\n",
    "    'rho_init':0,\n",
    "    'ca_initial':0,\n",
    "    'ca_delay':0, #ms\n",
    "    'Cpre':0,\n",
    "    'Cpost':0,\n",
    "    'eta':0,\n",
    "    'tau_ca':0,\n",
    "    'theta_D':0,\n",
    "    'theta_P':0,\n",
    "    'gamma_D':0,\n",
    "    'gamma_P':0,\n",
    "    'taurho':0, #*ms\n",
    "    'taurho_fast':0, #*ms # dummy,\n",
    "    'taupre':0,\n",
    "    'taupost':0,\n",
    "    'tau_ca':0, #*ms\n",
    "    'rho_star':0,\n",
    "    'D':0,\n",
    "    'baseline_I_ext_E':0,\n",
    "    'baseline_I_ext_I':0,\n",
    "\n",
    "    #'mean_I_ext_E':0,\n",
    "    #'mean_I_ext_I':0,\n",
    "    #'sigma': 0,\n",
    "    #'familiar_individual_sigma':0}\n",
    "\n",
    "    'mean_I_ext_E':0,\n",
    "    'mean_I_ext_I':0,\n",
    "    'sigma':0,\n",
    "    'familiar_individual_sigma':0}\n",
    "    \n",
    "\n",
    "\n",
    "# Control variables\n",
    "simulation_length =8000\n",
    "stair_length = 500\n",
    "N_E = 1000\n",
    "N_I = 250\n",
    "sample = 10\n",
    "input_flag = '_fam_fam_nov_'\n",
    "resets = 1\n",
    "debug = True\n",
    "\n",
    "sim = Brian_Simulator(simulation_length=simulation_length, stair_length=stair_length,N_E=N_E,N_I=N_I,sample=sample,\n",
    "         params=params, debug=debug)\n",
    "\n",
    "\n",
    "\n",
    "\n",
    "\n",
    "# prepare result variables\n",
    "spike_dict = build_real_value_spike_dict(params,param_diffs) # store spike trains for each parameter set\n",
    "param_trial_num = len(spike_dict)\n",
    "binned_rate_E = np.zeros((simulation_length * 10, param_trial_num))\n",
    "binned_rate_I = np.zeros((simulation_length * 10, param_trial_num))\n",
    "rho = np.zeros((N_E, simulation_length, param_trial_num))\n",
    "mean_rate_shift =np.zeros((param_trial_num,1))\n",
    "\n",
    "\n",
    "if param_trial_num == 1:\n",
    "    mode = 'cpp_standalone'\n",
    "else:\n",
    "    mode = 'cython'\n",
    "\n",
    "\n",
    "t = arange(simulation_length)"
   ]
  },
  {
   "cell_type": "markdown",
   "metadata": {},
   "source": [
    "### Run simulator for each parameter set(only 1 in this demo)"
   ]
  },
  {
   "cell_type": "code",
   "execution_count": null,
   "metadata": {
    "collapsed": false
   },
   "outputs": [],
   "source": [
    "\n",
    "for ind, key in enumerate(spike_dict):\n",
    "    cpp_directory = 'output_'+str(ind)\n",
    "    (I_ext_E, I_ext_I, binned_rate_E[:,ind], binned_rate_I[:,ind], rho[:,:,ind], spike_dict[key]) = sim.run(key, mode=mode, input_flag=input_flag, resets=resets, cpp_directory=cpp_directory)\n"
   ]
  },
  {
   "cell_type": "markdown",
   "metadata": {},
   "source": [
    "### Analysis"
   ]
  },
  {
   "cell_type": "code",
   "execution_count": null,
   "metadata": {
    "collapsed": false
   },
   "outputs": [],
   "source": [
    "\n",
    "(R_fam_E, R_fam_I, R_nov_E, R_nov_I) = unpack_raw_data('data/Data_Sheinberg_Neuron2012_FiringRates.mat')\n",
    "analyse_all_parameter_sets(t, I_ext_E, spike_dict,R_fam_E,R_nov_E, params) \n",
    "visualize_all(I_ext_E, binned_rate_E, rho, t, resets, spike_dict.keys(), input_flag)\n",
    "show()"
   ]
  }
 ],
 "metadata": {
  "kernelspec": {
   "display_name": "Python 2",
   "language": "python",
   "name": "python2"
  },
  "language_info": {
   "codemirror_mode": {
    "name": "ipython",
    "version": 2
   },
   "file_extension": ".py",
   "mimetype": "text/x-python",
   "name": "python",
   "nbconvert_exporter": "python",
   "pygments_lexer": "ipython2",
   "version": "2.7.11"
  }
 },
 "nbformat": 4,
 "nbformat_minor": 0
}
