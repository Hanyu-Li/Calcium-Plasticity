{
 "cells": [
  {
   "cell_type": "markdown",
   "metadata": {},
   "source": [
    "<font size=\"6\"><b><i>Brian2</i> Simulation of Calcium Based Plasticity in a Spiking Model</font>\n",
    "\n",
    "                                                                           Hanyu Li\n",
    "                                                                           03/25/2016"
   ]
  },
  {
   "cell_type": "code",
   "execution_count": 1,
   "metadata": {
    "collapsed": true
   },
   "outputs": [],
   "source": [
    "import sys\n",
    "sys.path.append(\"../\")\n",
    "from IPython.display import display, Math, Latex"
   ]
  },
  {
   "cell_type": "markdown",
   "metadata": {},
   "source": [
    "# Background and Previous Work"
   ]
  },
  {
   "cell_type": "markdown",
   "metadata": {},
   "source": [
    "## 1. Calcium Plasticity in Spiking Model"
   ]
  },
  {
   "cell_type": "markdown",
   "metadata": {},
   "source": [
    "synaptic efficacy changes induced by calcium"
   ]
  },
  {
   "cell_type": "markdown",
   "metadata": {},
   "source": [
    "\n",
    "<font size=\"4\"><b>Calcium Based Plasticity Rule Described by Grauper-Brunel Model(Grauper et.al, 2012):</b> \n",
    "\n",
    "\\begin{equation}\n",
    "\\tau \\frac{d\\rho}{dt} = -\\rho (1-\\rho)(\\rho_*- \\rho)\n",
    "        + \\gamma_p (1-\\rho)\\Theta[c(t)-\\theta_p]\n",
    "        - \\gamma_d \\rho \\Theta[c(t)-\\theta_d] + Noise(t)\n",
    "\\end{equation}\n",
    "\n",
    "\n",
    "\n",
    "<div style=\"align: left; text-align:center;\">\n",
    "<img src=\"pictures/calcium_dynamics1.png\">\n",
    "<div class=\"caption\">Fig.1 Order of Pre-Post Spike Pair causes potentiation or depression \n",
    "</div>\n",
    "\n",
    "<br>\n",
    "<br>\n",
    "\n",
    "<b>Variation in Higgins(2014)</b>\n",
    "\n",
    "\\begin{equation}\n",
    "\\tau \\frac{d\\rho}{dt} = -\\frac{\\partial U(\\rho)} {\\partial \\rho}\n",
    "        - \\gamma_d \\rho \\Theta[c(t)-\\theta_d] \n",
    "        + \\gamma_p (1-\\rho)\\Theta[c(t)-\\theta_p]\n",
    "        + \\sigma \\sqrt{\\tau} \\sqrt{\\Theta(t)[c(t) - \\theta_D] + \\Theta[c(t)-\\theta_P]} \\eta(t)\n",
    "\\end{equation}\n",
    "\n",
    "in which\n",
    "\n",
    "$U(\\rho) = \\frac{1}{4} \\rho^2 (1-\\rho)^2, \\ \\eta(t)\\ is\\ Gaussian\\ noise$\n",
    "<div style=\"align: left; text-align:center;\">\n",
    "<img src=\"pictures/calcium_dynamics2.png\", height=350, width=500>\n",
    "<div class=\"caption\">Fig.2 Pre-Post Spike Train and Synaptic Efficacy Changes \n",
    "</div>"
   ]
  },
  {
   "cell_type": "markdown",
   "metadata": {},
   "source": [
    "## 2. Rate Model Plasticity and Change in Firing Rate Distribution "
   ]
  },
  {
   "cell_type": "markdown",
   "metadata": {},
   "source": [
    "<font size=\"4\"><b>Rate Model and Learning Rule inference in Sukbin et.al, 2016:</b> \n",
    "\n",
    "\\begin{equation}\n",
    "\\tau_E  \\frac{dr_i^E}{dt} = - r_i^E + \n",
    "    \\Phi_E ( \\sum_{j=1}^{N_E} W_{ij}^{EE} r_j^E - \\sum_{j=1}^{N_I} W_{ij}^{EI} r_j^I + I_i^{EX})\n",
    "\\end{equation}\n",
    "\n",
    "\\begin{equation}\n",
    "\\tau_I  \\frac{dr_i^I}{dt} = - r_i^I + \\Phi_I ( \\sum_{j=1}^{N_E} W_{ij}^{IE} r_j^E + I_i^{EX})\n",
    "\\end{equation}\n",
    "\n",
    "in which $\\Phi$ is the f-I transfer function\n",
    "\n",
    "Plasticity obeys \n",
    "\n",
    "Plasticity is described by:\n",
    "\n",
    "\\begin{equation}\n",
    "\\Delta W_{ij}^{EE} \\leftarrow \\Delta W_{ij}^{EE} - \\frac{1}{N_E} \\sum_{j=1}{N_E}\\Delta W_{ij}^{EE}\n",
    "\\end{equation}\n",
    "\n",
    "Familiar inputs \n",
    "<div style=\"align: left; text-align:center;\">\n",
    "<img src=\"pictures/sukbin2.png\", height=350, width=500>\n",
    "<div class=\"caption\">Fig.3 Comparison between simulated and experimental data \n",
    "</div>\n",
    "\n",
    "\n",
    "<br>\n",
    "<br>\n",
    "Familiar inputs \n",
    "<div style=\"align: left; text-align:center;\">\n",
    "<img src=\"pictures/sukbin1.png\", height=350, width=500>\n",
    "<div class=\"caption\">Fig.3 Comparison between simulated and experimental data \n",
    "</div>\n"
   ]
  },
  {
   "cell_type": "markdown",
   "metadata": {},
   "source": [
    "# Introduction"
   ]
  },
  {
   "cell_type": "markdown",
   "metadata": {},
   "source": [
    "Aim: Show the effect Calcium Plasticity in a spiking neural network to reproduce the effect of learning on "
   ]
  },
  {
   "cell_type": "code",
   "execution_count": 2,
   "metadata": {
    "collapsed": false
   },
   "outputs": [
    {
     "data": {
      "text/html": [
       "\n",
       "        <iframe\n",
       "            width=\"930\"\n",
       "            height=\"930\"\n",
       "            src=\"files/__tmp6394_1.html\"\n",
       "            frameborder=\"0\"\n",
       "            allowfullscreen\n",
       "        ></iframe>\n",
       "        "
      ],
      "text/plain": [
       "<IPython.lib.display.IFrame at 0x7f63898e9510>"
      ]
     },
     "execution_count": 2,
     "metadata": {},
     "output_type": "execute_result"
    }
   ],
   "source": [
    "from d3js_network import show_network\n",
    "show_network(template='connectivity_E_200_I_50.template',\n",
    "            connectivity='connectivity_E_200_I_50.json',  w=900,h=900)\n",
    "#show_network(template='connectivity_E_500_I_125.template',\n",
    "#            connectivity='connectivity_E_500_I_125.json',  w=900,h=900)"
   ]
  },
  {
   "cell_type": "code",
   "execution_count": null,
   "metadata": {
    "collapsed": false
   },
   "outputs": [],
   "source": [
    "from core import *"
   ]
  },
  {
   "cell_type": "code",
   "execution_count": null,
   "metadata": {
    "collapsed": false
   },
   "outputs": [],
   "source": [
    "%%javascript\n",
    "IPython.OutputArea.auto_scroll_threshold = 9999;"
   ]
  },
  {
   "cell_type": "code",
   "execution_count": null,
   "metadata": {
    "collapsed": false
   },
   "outputs": [],
   "source": [
    "%cd ~/pypath/spike_model/\n",
    "%matplotlib inline\n",
    "%run core.py"
   ]
  },
  {
   "cell_type": "markdown",
   "metadata": {},
   "source": [
    "\n",
    "$$c = \\sqrt{a^2 + b^2}$$"
   ]
  },
  {
   "cell_type": "code",
   "execution_count": null,
   "metadata": {
    "collapsed": true
   },
   "outputs": [],
   "source": []
  }
 ],
 "metadata": {
  "kernelspec": {
   "display_name": "Python 2",
   "language": "python",
   "name": "python2"
  },
  "language_info": {
   "codemirror_mode": {
    "name": "ipython",
    "version": 2
   },
   "file_extension": ".py",
   "mimetype": "text/x-python",
   "name": "python",
   "nbconvert_exporter": "python",
   "pygments_lexer": "ipython2",
   "version": "2.7.11"
  }
 },
 "nbformat": 4,
 "nbformat_minor": 0
}
