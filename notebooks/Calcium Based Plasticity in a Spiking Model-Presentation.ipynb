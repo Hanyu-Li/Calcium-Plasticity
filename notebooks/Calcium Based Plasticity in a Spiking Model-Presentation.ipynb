{
 "cells": [
  {
   "cell_type": "markdown",
   "metadata": {},
   "source": [
    "<font size=\"6\"><b><i>Brian2</i> Simulation of Calcium Based Plasticity in a Spiking Model</font>\n",
    "\n",
    "                                                                           Hanyu Li\n",
    "                                                                           03/25/2016"
   ]
  },
  {
   "cell_type": "code",
   "execution_count": 1,
   "metadata": {
    "collapsed": true
   },
   "outputs": [],
   "source": [
    "from IPython.display import display, Math, Latex"
   ]
  },
  {
   "cell_type": "markdown",
   "metadata": {},
   "source": [
    "# Background and Previous Work"
   ]
  },
  {
   "cell_type": "markdown",
   "metadata": {},
   "source": [
    "<font size=\"4\">Synaptic efficacy changes induced by calcium is believed to be the substrate for long term memory. \n",
    "<br>\n",
    "<br>\n",
    "Experiments have shown that such memory traces in IT cortex causes the neurons to fire differently in regard to \"familiar\" and \"novel\" stimuli.\n",
    "<br>\n",
    "<br>\n",
    "Such effect has been reproduced by a rate model simulation. In this work, we are interested in reproducing that with a spiking model"
   ]
  },
  {
   "cell_type": "markdown",
   "metadata": {},
   "source": [
    "## 1. Rate Model Plasticity and Change in Firing Rate Distribution "
   ]
  },
  {
   "cell_type": "markdown",
   "metadata": {},
   "source": [
    "<font size=\"4\"><b>Rate Model and Learning Rule inference in Sukbin et.al, 2016:</b> \n",
    "\n",
    "<div style=\"align: left; text-align:center;\">\n",
    "<img src=\"pictures/sukbin2.png\", height=350, width=500>\n",
    "<div class=\"caption\">Fig.1 Comparison between simulated and experimental data, (a-b). Mean, (c-d), Max \n",
    "</div>\n",
    "\n",
    "\n",
    "\n",
    "<br>\n",
    "<br>\n",
    "\n",
    "<div style=\"align: left; text-align:center;\">\n",
    "<img src=\"pictures/sukbin1.png\", height=350, width=500>\n",
    "<div class=\"caption\">Fig.2 Comparison between simulated and experimental data(Normalized)\n",
    "</div>\n",
    "\n",
    "\n",
    "\n",
    "\\begin{equation}\n",
    "\\tau_E  \\frac{dr_i^E}{dt} = - r_i^E + \n",
    "    \\Phi_E ( \\sum_{j=1}^{N_E} W_{ij}^{EE} r_j^E - \\sum_{j=1}^{N_I} W_{ij}^{EI} r_j^I + I_i^{EX})\n",
    "\\end{equation}\n",
    "\n",
    "\\begin{equation}\n",
    "\\tau_I  \\frac{dr_i^I}{dt} = - r_i^I + \\Phi_I ( \\sum_{j=1}^{N_E} W_{ij}^{IE} r_j^E + I_i^{EX})\n",
    "\\end{equation}\n",
    "\n",
    "in which $\\Phi$ is the f-I transfer function\n",
    "\n",
    "Plasticity obeys \n",
    "\n",
    "Plasticity is described by:\n",
    "\n",
    "\\begin{equation}\n",
    "\\Delta W_{ij}^{EE} \\leftarrow \\Delta W_{ij}^{EE} - \\frac{1}{N_E} \\sum_{j=1}{N_E}\\Delta W_{ij}^{EE}\n",
    "\\end{equation}\n",
    "\n",
    "\n"
   ]
  },
  {
   "cell_type": "markdown",
   "metadata": {},
   "source": [
    "## 2. Calcium Plasticity in Spiking Model"
   ]
  },
  {
   "cell_type": "markdown",
   "metadata": {},
   "source": [
    "\n",
    "<font size=\"4\"><b>Calcium Based Plasticity Rule Described by Grauper-Brunel Model(Grauper et.al, 2012):</b> \n",
    "\n",
    "\\begin{equation}\n",
    "\\tau \\frac{d\\rho}{dt} = -\\rho (1-\\rho)(\\rho_*- \\rho)\n",
    "        + \\gamma_p (1-\\rho)\\Theta[c(t)-\\theta_p]\n",
    "        - \\gamma_d \\rho \\Theta[c(t)-\\theta_d] + Noise(t)\n",
    "\\end{equation}\n",
    "\n",
    "\n",
    "\n",
    "<div style=\"align: left; text-align:center;\">\n",
    "<img src=\"pictures/calcium_dynamics1.png\">\n",
    "<div class=\"caption\">Fig.3 Order of Pre-Post Spike Pair causes potentiation or depression \n",
    "</div>\n",
    "\n",
    "<br>\n",
    "<br>\n",
    "\n",
    "<b>Variation in Higgins(2014)</b>\n",
    "\n",
    "\\begin{equation}\n",
    "\\tau \\frac{d\\rho}{dt} = -\\frac{\\partial U(\\rho)} {\\partial \\rho}\n",
    "        - \\gamma_d \\rho \\Theta[c(t)-\\theta_d] \n",
    "        + \\gamma_p (1-\\rho)\\Theta[c(t)-\\theta_p]\n",
    "        + \\sigma \\sqrt{\\tau} \\sqrt{\\Theta(t)[c(t) - \\theta_D] + \\Theta[c(t)-\\theta_P]} \\eta(t)\n",
    "\\end{equation}\n",
    "\n",
    "in which\n",
    "\n",
    "$U(\\rho) = \\frac{1}{4} \\rho^2 (1-\\rho)^2, \\ \\eta(t)\\ is\\ Gaussian\\ noise$\n",
    "<div style=\"align: left; text-align:center;\">\n",
    "<img src=\"pictures/calcium_dynamics2.png\", height=350, width=500>\n",
    "<div class=\"caption\">Fig.4 Pre-Post Spike Train and Synaptic Efficacy Changes \n",
    "</div>"
   ]
  },
  {
   "cell_type": "markdown",
   "metadata": {},
   "source": [
    "# Introduction"
   ]
  },
  {
   "cell_type": "markdown",
   "metadata": {},
   "source": [
    "<font size=\"5\">\n",
    "Aims: \n",
    "1. Simulating Calcium Plasticity in a spiking neural network using Brian\n",
    "<br>\n",
    "<br>\n",
    "2. To reproduce the firing rate distribution observed in IT cortex\n",
    "<br>\n",
    "<br>\n",
    "3. To reproduce the effect of learning on firing rate distribution"
   ]
  },
  {
   "cell_type": "markdown",
   "metadata": {},
   "source": [
    "<font size=\"4\">A E-I network with 4:1 ratio, probability of connection = 0.05"
   ]
  },
  {
   "cell_type": "code",
   "execution_count": 2,
   "metadata": {
    "collapsed": false
   },
   "outputs": [
    {
     "name": "stdout",
     "output_type": "stream",
     "text": [
      "/home/hanyu/pypath/calcium-spike-model/notebooks\n"
     ]
    },
    {
     "data": {
      "text/html": [
       "\n",
       "        <iframe\n",
       "            width=\"930\"\n",
       "            height=\"830\"\n",
       "            src=\"files/__tmp9627_1.html\"\n",
       "            frameborder=\"0\"\n",
       "            allowfullscreen\n",
       "        ></iframe>\n",
       "        "
      ],
      "text/plain": [
       "<IPython.lib.display.IFrame at 0x7f25bed8a7d0>"
      ]
     },
     "execution_count": 2,
     "metadata": {},
     "output_type": "execute_result"
    }
   ],
   "source": [
    "import sys\n",
    "sys.path.append(\"../\")\n",
    "from d3js_network import show_network\n",
    "%cd ~/pypath/calcium-spike-model/notebooks/\n",
    "show_network(template='connectivity_E_200_I_50.template',\n",
    "            connectivity='connectivity_E_200_I_50.json',  w=900,h=800)\n",
    "#show_network(template='connectivity_E_500_I_125.template',\n",
    "#            connectivity='connectivity_E_500_I_125.json',  w=900,h=900)"
   ]
  },
  {
   "cell_type": "code",
   "execution_count": 3,
   "metadata": {
    "collapsed": false
   },
   "outputs": [
    {
     "data": {
      "application/javascript": [
       "IPython.OutputArea.auto_scroll_threshold = 99999;"
      ],
      "text/plain": [
       "<IPython.core.display.Javascript object>"
      ]
     },
     "metadata": {},
     "output_type": "display_data"
    }
   ],
   "source": [
    "%%javascript\n",
    "IPython.OutputArea.auto_scroll_threshold = 99999;"
   ]
  },
  {
   "cell_type": "markdown",
   "metadata": {},
   "source": [
    "# Simulation"
   ]
  },
  {
   "cell_type": "code",
   "execution_count": 4,
   "metadata": {
    "collapsed": false,
    "scrolled": true
   },
   "outputs": [
    {
     "name": "stdout",
     "output_type": "stream",
     "text": [
      "/home/hanyu/pypath/calcium-spike-model\n"
     ]
    }
   ],
   "source": [
    "from brian_utils import *\n",
    "from brian_simulator import *\n",
    "%matplotlib inline\n",
    "%cd ~/pypath/calcium-spike-model/"
   ]
  },
  {
   "cell_type": "code",
   "execution_count": 5,
   "metadata": {
    "collapsed": true
   },
   "outputs": [],
   "source": [
    "params = {\n",
    "    'cpre_0':0.1,\n",
    "    'cpost_0':0.1,\n",
    "    'rho_0':0.5,\n",
    "    'c':0.2,\n",
    "    'dummy':0.2,\n",
    "    'Ipre':0,\n",
    "    'Ipost':0,\n",
    "    'w0':0.5,\n",
    "    'w_EE':0.2,\n",
    "    'w_IE':0.1,\n",
    "    'w_II':-0.4,\n",
    "    'w_EI':-0.4,\n",
    "    #LIF specific constants,\n",
    "    'tau_lif':26, #*ms\n",
    "    'V_init':-60,\n",
    "    'V_rest':-70,\n",
    "    'V_reset':-70,\n",
    "    'V_threshold':-50,\n",
    "    'CM':0.001,\n",
    "    'RM':20.0,\n",
    "    'refrac':0,\n",
    "    #Synapse model specific constants,\n",
    "    'rho_init':0.019,\n",
    "    'ca_initial':0,\n",
    "    'ca_delay':4.61, #ms\n",
    "    'Cpre':0.56175,\n",
    "    'Cpost':1.23964,\n",
    "    'eta':0,\n",
    "    'tau_ca':22.6936,\n",
    "    'theta_D':1,\n",
    "    'theta_P':1.3,\n",
    "    'gamma_D':331.909,\n",
    "    'gamma_P':725.085,\n",
    "    'taurho':346361, #*ms\n",
    "    'taurho_fast':10, #*ms # dummy,\n",
    "    'taupre':22,\n",
    "    'taupost':22,\n",
    "    'tau_ca':22, #*ms\n",
    "    'rho_star':0.5,\n",
    "    'D':4.6098,\n",
    "    'baseline_I_ext_E':25,\n",
    "    'baseline_I_ext_I':35,\n",
    "    'mean_I_ext_E':40,\n",
    "    'mean_I_ext_I':50,\n",
    "    'sigma':20,\n",
    "    'familiar_individual_sigma':9}"
   ]
  },
  {
   "cell_type": "markdown",
   "metadata": {},
   "source": [
    "<b> Initialize Brian Parameters, mostly adapted from Higgins(2014)</b>\n",
    "<img src=\"../notebooks/pictures/params.png\", height=400, width=400>"
   ]
  },
  {
   "cell_type": "markdown",
   "metadata": {},
   "source": [
    "### Setup simulator"
   ]
  },
  {
   "cell_type": "code",
   "execution_count": null,
   "metadata": {
    "collapsed": true
   },
   "outputs": [],
   "source": [
    "# additively applied to params\n",
    "param_diffs = {\n",
    "    'cpre_0':0,\n",
    "    'cpost_0':0,\n",
    "    'rho_0':0,\n",
    "    'c':0,\n",
    "    'dummy':0,\n",
    "    'Ipre':0,\n",
    "    'Ipost':0,\n",
    "    'w0':0,\n",
    "    'w_EE':0,\n",
    "    'w_IE':0,\n",
    "    'w_II':0,\n",
    "    'w_EI':0,\n",
    "    #LIF specific constants,\n",
    "    'tau_lif':0, #*ms\n",
    "    'V_init':0,\n",
    "    'V_rest':0,\n",
    "    'V_reset':0,\n",
    "    'V_threshold':0,\n",
    "    'CM':0,\n",
    "    'RM':0,\n",
    "    'refrac':0,\n",
    "    #Synapse model specific constants,\n",
    "    'rho_init':0,\n",
    "    'ca_initial':0,\n",
    "    'ca_delay':0, #ms\n",
    "    'Cpre':0,\n",
    "    'Cpost':0,\n",
    "    'eta':0,\n",
    "    'tau_ca':0,\n",
    "    'theta_D':0,\n",
    "    'theta_P':0,\n",
    "    'gamma_D':0,\n",
    "    'gamma_P':0,\n",
    "    'taurho':0, #*ms\n",
    "    'taurho_fast':0, #*ms # dummy,\n",
    "    'taupre':0,\n",
    "    'taupost':0,\n",
    "    'tau_ca':0, #*ms\n",
    "    'rho_star':0,\n",
    "    'D':0,\n",
    "    'baseline_I_ext_E':0,\n",
    "    'baseline_I_ext_I':0,\n",
    "\n",
    "    #'mean_I_ext_E':0,\n",
    "    #'mean_I_ext_I':0,\n",
    "    #'sigma': 0,\n",
    "    #'familiar_individual_sigma':0}\n",
    "\n",
    "    'mean_I_ext_E':0,\n",
    "    'mean_I_ext_I':0,\n",
    "    'sigma':0,\n",
    "    'familiar_individual_sigma':0}\n",
    "    \n",
    "\n",
    "\n",
    "# Control variables\n",
    "simulation_length =8000\n",
    "stair_length = 500\n",
    "N_E = 1000\n",
    "N_I = 250\n",
    "sample = 10\n",
    "input_flag = '_fam_fam_nov_'\n",
    "resets = 1\n",
    "debug = True\n",
    "\n",
    "sim = Brian_Simulator(simulation_length=simulation_length, stair_length=stair_length,N_E=N_E,N_I=N_I,sample=sample,\n",
    "         params=params, debug=debug)\n",
    "\n",
    "\n",
    "\n",
    "\n",
    "\n",
    "# prepare result variables\n",
    "spike_dict = build_real_value_spike_dict(params,param_diffs) # store spike trains for each parameter set\n",
    "param_trial_num = len(spike_dict)\n",
    "binned_rate_E = np.zeros((simulation_length * 10, param_trial_num))\n",
    "binned_rate_I = np.zeros((simulation_length * 10, param_trial_num))\n",
    "rho = np.zeros((N_E, simulation_length, param_trial_num))\n",
    "mean_rate_shift =np.zeros((param_trial_num,1))\n",
    "\n",
    "\n",
    "if param_trial_num == 1:\n",
    "    mode = 'cpp_standalone'\n",
    "else:\n",
    "    mode = 'cython'\n",
    "\n",
    "\n",
    "t = arange(simulation_length)"
   ]
  },
  {
   "cell_type": "markdown",
   "metadata": {},
   "source": [
    "### Run simulator for each parameter set(only 1 in this demo)"
   ]
  },
  {
   "cell_type": "code",
   "execution_count": null,
   "metadata": {
    "collapsed": false
   },
   "outputs": [],
   "source": [
    "\n",
    "for ind, key in enumerate(spike_dict):\n",
    "    cpp_directory = 'output_'+str(ind)\n",
    "    (I_ext_E, I_ext_I, binned_rate_E[:,ind], binned_rate_I[:,ind], rho[:,:,ind], spike_dict[key]) = sim.run(key, mode=mode, input_flag=input_flag, resets=resets, cpp_directory=cpp_directory)\n"
   ]
  },
  {
   "cell_type": "markdown",
   "metadata": {},
   "source": [
    "### Analysis"
   ]
  },
  {
   "cell_type": "code",
   "execution_count": null,
   "metadata": {
    "collapsed": false
   },
   "outputs": [],
   "source": [
    "\n",
    "(R_fam_E, R_fam_I, R_nov_E, R_nov_I) = unpack_raw_data('data/Data_Sheinberg_Neuron2012_FiringRates.mat')\n",
    "analyse_all_parameter_sets(t, I_ext_E, spike_dict,R_fam_E,R_nov_E, params) \n",
    "visualize_all(I_ext_E, binned_rate_E, rho, t, resets, spike_dict.keys(), input_flag)\n",
    "show()"
   ]
  },
  {
   "cell_type": "markdown",
   "metadata": {
    "collapsed": true
   },
   "source": [
    "# Results"
   ]
  },
  {
   "cell_type": "markdown",
   "metadata": {},
   "source": [
    "## Three fitting paradigms\n",
    "<font size=\"4\">1. Fitting single neuron with raw firing rate distribution\n",
    "<font size=\"4\">2. Fitting multiple neurons with normalized firing rate distribution\n",
    "<font size=\"4\">3. Fitting multiple neurons with raw firing rate distribution "
   ]
  },
  {
   "cell_type": "markdown",
   "metadata": {},
   "source": [
    "### 1. Fitting single neuron\n",
    "<font size=\"4\">A single neuron's firing rate follows a lognormal distribution as shown in the following figure, a novel stimulus triggers larger firing rate than a familiar stimulus\n",
    "<img src=\"pictures/single_neuron_fitting.png\", height=400, width=400>\n",
    "\n",
    "This can be fitted closely with the spiking model\n",
    "<img src=\"pictures/single_neuron_fitting_sim.png\">"
   ]
  },
  {
   "cell_type": "markdown",
   "metadata": {},
   "source": [
    "### 2. Fitting multiple neurons with normalized firing rate distribution \n",
    "<font size=\"4\"> Because each recorded neuron has different mean and variance, the first step is to normalize their firing rate with regard to each sample's mean, and plot variance in units of std\n",
    "<img src=\"pictures/multi_neuron_fitting.png\">\n",
    "\n",
    "This can also be fitted closely with the spiking model, by numerically closing in toward the best fitting parameters\n",
    "<img src=\"pictures/multi_neuron_fitting_sim.png\", height=1500, width=1500>\n",
    "<img src=\"pictures/csv.png\",height=900, width=900>\n",
    "\n"
   ]
  },
  {
   "cell_type": "markdown",
   "metadata": {},
   "source": [
    "### 3. Fitting multiple neurons with raw firing rate distribution(Unsuccessful) \n",
    "<font size=\"4\"> This simulation paradigm proves challenging, if not impossible, to fit with real data. \n",
    "\n",
    "Mostly because each recorded has individual mean and variance, when binned together, they nolonger follow lognormal distribution\n",
    "<img src=\"pictures/raw_dist.png\", height=1500, width=1500>\n",
    "\n",
    "<img src=\"pictures/raw_dist_sim.png\", height=1500, width=1500>\n",
    "\n",
    "To fix this, potential options are:\n",
    "1. Build an exact mapping between real neuron and simulated neuron. Adjust each neuron's weight for it to get the mean rate  \n",
    "2. Using fine tuned external input to train each neuron until reaching mean rate"
   ]
  },
  {
   "cell_type": "markdown",
   "metadata": {},
   "source": [
    "## Conclusion and Future Directions\n",
    "<font size=\"4\"> \n",
    "1. The spiking model can reproduce the lognormal firing distribution that closely fit a recorded neuron\n",
    "<br>\n",
    "<br>\n",
    "\n",
    "2. The spiking model can also fit a normalized firing rate distribution obtained from real data\n",
    "<br>\n",
    "<br>\n",
    "3. Due to time constraint, the plasticity rule is kept linear ($ \\eta=0, C = C_{pre} + C_{post} + \\eta*C_{pre}C_{post} $) and the effect of nonlinear term $\\eta$ has not been further investigated, \n",
    "<br>\n",
    "<br>\n",
    "4. Need better way to fit the learning rule(\"quantify familiarity\"), difference between novel and familiar stimulus is not significant enough yet. \n",
    "<br>\n",
    "<br>\n",
    "\n",
    "5. Find better simulation technique to mirror recorded data\n"
   ]
  }
 ],
 "metadata": {
  "kernelspec": {
   "display_name": "Python 2",
   "language": "python",
   "name": "python2"
  },
  "language_info": {
   "codemirror_mode": {
    "name": "ipython",
    "version": 2
   },
   "file_extension": ".py",
   "mimetype": "text/x-python",
   "name": "python",
   "nbconvert_exporter": "python",
   "pygments_lexer": "ipython2",
   "version": "2.7.11"
  }
 },
 "nbformat": 4,
 "nbformat_minor": 0
}
