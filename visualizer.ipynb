{
 "cells": [
  {
   "cell_type": "code",
   "execution_count": 1,
   "metadata": {
    "collapsed": false
   },
   "outputs": [],
   "source": [
    "from core import Brian_Simulator\n",
    "from brian2 import *\n",
    "import csv\n",
    "%matplotlib inline"
   ]
  },
  {
   "cell_type": "code",
   "execution_count": null,
   "metadata": {
    "collapsed": false
   },
   "outputs": [
    {
     "name": "stderr",
     "output_type": "stream",
     "text": [
      "WARNING  brian2.devices.cpp_standalone.device.openmp: OpenMP code is not yet well tested, and may be inaccurate.\n"
     ]
    }
   ],
   "source": [
    "\n",
    "params = {\n",
    "    'cpre_0':0.1,\n",
    "    'cpost_0':0.1,\n",
    "    'rho_0':0.6,\n",
    "    'c':0.2,\n",
    "    'dummy':0.2,\n",
    "    'Ipre':0,\n",
    "    'Ipost':0,\n",
    "    'w0':0.5,\n",
    "    #LIF specific constants,\n",
    "    'tau_lif':26, #*ms\n",
    "    'V_init':-60,\n",
    "    'V_rest':-70,\n",
    "    'V_reset':-70,\n",
    "    'V_threshold':-50,\n",
    "    'CM':0.001,\n",
    "    'RM':20.0,\n",
    "    'sigma':5,\n",
    "    'refrac':0,\n",
    "    #Synapse model specific constants,\n",
    "    'rho_init':0.019,\n",
    "    'ca_initial':0,\n",
    "    'ca_delay':4.61, #ms\n",
    "    'Cpre':0.56175,\n",
    "    'Cpost':1.23964,\n",
    "    'tau_ca':22.6936,\n",
    "    'theta_D':1,\n",
    "    'theta_P':1.3,\n",
    "    'gamma_D':331.909,\n",
    "    'gamma_P':725.085,\n",
    "    'taurho':346361, #*ms\n",
    "    'taurho_fast':10, #*ms # dummy,\n",
    "    'taupre':22,\n",
    "    'taupost':22,\n",
    "    'tau_ca':22, #*ms\n",
    "    'rho_star':0.5,\n",
    "    'D':4.6098}\n",
    "\n",
    "sim = Brian_Simulator(simulation_length=10000, N_E=800,N_I=200, params=params)\n",
    "sim.run()\n"
   ]
  },
  {
   "cell_type": "code",
   "execution_count": null,
   "metadata": {
    "collapsed": false
   },
   "outputs": [],
   "source": [
    "reader = csv.reader(open('results/stable_rho.csv','r'))\n",
    "stable_rho = reader.next()\n",
    "#print stable_rho\n",
    "plot(stable_rho)\n",
    "\n",
    "xlabel('Excitatory Neuron ID')\n",
    "ylabel('Stable rho')\n"
   ]
  }
 ],
 "metadata": {
  "kernelspec": {
   "display_name": "Python 2",
   "language": "python",
   "name": "python2"
  },
  "language_info": {
   "codemirror_mode": {
    "name": "ipython",
    "version": 2
   },
   "file_extension": ".py",
   "mimetype": "text/x-python",
   "name": "python",
   "nbconvert_exporter": "python",
   "pygments_lexer": "ipython2",
   "version": "2.7.11"
  }
 },
 "nbformat": 4,
 "nbformat_minor": 0
}
